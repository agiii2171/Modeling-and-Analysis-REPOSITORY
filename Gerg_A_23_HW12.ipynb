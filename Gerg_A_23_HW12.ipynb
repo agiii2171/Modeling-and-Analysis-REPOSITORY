{
 "cells": [
  {
   "cell_type": "markdown",
   "metadata": {},
   "source": [
    "# PyObject:  Object-oriented programming HW"
   ]
  },
  {
   "cell_type": "markdown",
   "metadata": {},
   "source": [
    "## Exercise 1  (from Monday's class)"
   ]
  },
  {
   "cell_type": "markdown",
   "metadata": {},
   "source": [
    "1. Write a ``Particle`` class that can be used to represent a particle with a mass, a 3-d position, and a 3-d velocity.\n",
    "\n",
    "2. Write a method that can be used to compute the kinetic energy of the particle\n",
    "\n",
    "3. Write a method that takes another particle as an argument and finds the distance between the two particles\n",
    "\n",
    "4. Write a method that given a time interval ``dt`` will update the position of the particle to the new position based on the current position and velocity.\n",
    "\n",
    "5. Write a ``ChargedParticle`` class that inherits from the ``Particle`` class, but also has an attribute for the charge of the particle.\n"
   ]
  },
  {
   "cell_type": "code",
   "execution_count": null,
   "metadata": {},
   "outputs": [],
   "source": [
    "import numpy as np\n",
    "import numpy as np\n",
    "class Particle(object):\n",
    "    \n",
    "    def __init__(self, m, x, y, z, i, j, k):\n",
    "        self.m = m\n",
    "        self.x = x\n",
    "        self.y = y\n",
    "        self.z = z\n",
    "        self.i = i\n",
    "        self.j = j\n",
    "        self.k = k\n",
    "        \n",
    "    def k_e(self):\n",
    "        print((1/2)*self.m*(self.i**2 + self.j**2 + self.k**2))\n",
    "    \n",
    "    def find_separation1(self, other):\n",
    "        print(np.sqrt((self.x - other.x)**2 + (self.y - other.y)**2 + (self.z - other.z)**2))\n",
    "    \n",
    "    def time_interval(self):\n",
    "        c_i_t_x = (self.i + self.x)\n",
    "        c_i_t_y = (self.j + self.y)\n",
    "        c_i_t_z = (self.k + self.z)\n",
    "        print(c_i_t_x,c_i_t_y,c_i_t_z)\n",
    "\n",
    "class ChargedParticle(Particle):\n",
    "\n",
    "    def __init__(self, mass, x, y, z, vx, vy, vz, charge):\n",
    "        self.mass = mass\n",
    "        self.x = x\n",
    "        self.y = y\n",
    "        self.z = z\n",
    "        self.vx = vx\n",
    "        self.vy = vy\n",
    "        self.vz = vz\n",
    "        self.charge = charge\n"
   ]
  },
  {
   "cell_type": "code",
   "execution_count": null,
   "metadata": {},
   "outputs": [],
   "source": [
    "# write/copy code here"
   ]
  },
  {
   "cell_type": "markdown",
   "metadata": {},
   "source": [
    "## Exercise 2  (New)"
   ]
  },
  {
   "cell_type": "markdown",
   "metadata": {},
   "source": [
    "##### 6. Write a method that can be used to see if a particle is in the same place (e.g., find_seperation < 0.25).  If there are two ChargedParticles in the same place make a \"simple\" (*not correct physics*) \"interaction\". (__have the code print \"interaction\"__).   \n",
    "\n",
    "    a. If the charges are opposite, make them \"combine\", set both velocities to zero and set their charge to zero, and print \"merge\".\n",
    "\n",
    "    b. Else, make the particles \"repel\", to do:\n",
    "    \n",
    "        multiply each \"self\" velocity and  by (-1 * (self.charge+other.charge) * (self.mass/other.mass))  \n",
    "    \n",
    "        multiply each \"other\" velocity by (-1 * (self.charge+other.charge) * (other.mass/self.mass)) \n",
    "    \n",
    "    e.g., reversing it's velocity, and print \"repel\". __(Again this is bad physics, but we are focusing on coding so play along.)__\n",
    "\n",
    "\n",
    "7. To test the above, write a code with two particles starting:\n",
    "\n",
    "        P1 at (x,y,z) = (-5,-5,-5) with (vx,vy,vz) = (1,1,1) and (charge = 0.5) \n",
    "\n",
    "        P2 at (x,y,z) = (5,5,5) with (vx,vy,vz) = (-1,-1,-1) and (charge = -0.5).  \n",
    "\n",
    "    Use your dt time interval to move the particles in 0.25 time steps for 100 steps, and print the current poition and velocity of each particle at each time step.  \n",
    "    \n",
    "\n",
    "8. To test the above, write a code with two particles starting: \n",
    "\n",
    "        P1 at (x,y,z) = (-5,-5,-5) with (vx,vy,vz) = (2,2,2) and (charge = 0.5) \n",
    "\n",
    "        P2 at (x,y,z) = (5,5,5) with (vx,vy,vz) = (-2,-2,-2) and (charge = 2.0).  \n",
    "\n",
    "    Use your dt time interval to move the particles in 0.25 time steps for 100 steps, and print the current poition and velocity of each particle at each time step.  \n"
   ]
  },
  {
   "cell_type": "code",
   "execution_count": 44,
   "metadata": {},
   "outputs": [
    {
     "name": "stdout",
     "output_type": "stream",
     "text": [
      "merge\n",
      "repel\n"
     ]
    }
   ],
   "source": [
    "import numpy as np\n",
    "class Particle(object):\n",
    "    \n",
    "    def __init__(self, m, x, y, z, i, j, k):\n",
    "        self.m = m\n",
    "        self.x = x\n",
    "        self.y = y\n",
    "        self.z = z\n",
    "        self.i = i\n",
    "        self.j = j\n",
    "        self.k = k\n",
    "        \n",
    "    def k_e(self):\n",
    "        print((1/2)*self.m*(self.i**2 + self.j**2 + self.k**2))\n",
    "    \n",
    "    def find_separation1(self, other):\n",
    "        return np.sqrt((self.x - other.x)**2 + (self.y - other.y)**2 + (self.z - other.z)**2)\n",
    "    \n",
    "    def time_interval(self, dt):\n",
    "        self.x += (self.i)*dt\n",
    "        self.y += (self.j)*dt\n",
    "        self.z += (self.k)*dt\n",
    "\n",
    "class ChargedParticle(Particle):\n",
    "\n",
    "    def __init__(self, mass, x, y, z, i, j, k, charge):\n",
    "        self.mass = mass\n",
    "        self.x = x\n",
    "        self.y = y\n",
    "        self.z = z\n",
    "        self.i = i\n",
    "        self.j = j\n",
    "        self.k = k\n",
    "        self.charge = charge\n",
    "        \n",
    "    def find_separation2(self, other):\n",
    "        return np.sqrt((self.x - other.x)**2 + (self.y - other.y)**2 + (self.z - other.z)**2)\n",
    "        \n",
    "    def charge(self, other):\n",
    "            if ((self.charge > 0 and other.charge < 0) or (self.charge < 0 and other.charge > 0)): \n",
    "                self.i = 0\n",
    "                self.j = 0\n",
    "                self.k = 0\n",
    "                other.i = 0\n",
    "                other.j = 0\n",
    "                other.k = 0\n",
    "                self.charge = 0\n",
    "                other.charge = 0\n",
    "                print('merge')\n",
    "            else:\n",
    "                self.i *= (-1 * (self.charge+other.charge) * (self.mass/other.mass))\n",
    "                self.j *= (-1 * (self.charge+other.charge) * (self.mass/other.mass))\n",
    "                self.k *= (-1 * (self.charge+other.charge) * (self.mass/other.mass))\n",
    "                other.i *= (-1 * (self.charge+other.charge) * (other.mass/self.mass)) \n",
    "                other.j *= (-1 * (self.charge+other.charge) * (other.mass/self.mass))\n",
    "                other.k *= (-1 * (self.charge+other.charge) * (other.mass/self.mass))\n",
    "                print('repel')\n",
    "            \n",
    "            \n",
    "                \n",
    "P1 = ChargedParticle(1,-5,-5,-5,1,1,1,0.5)\n",
    "P2 = ChargedParticle(1,5,5,5,-1,-1,-1,-0.5)\n",
    "P3 = ChargedParticle(1,-5,-5,-5,2,2,2,0.5)\n",
    "P4 = ChargedParticle(1,5,5,5,-2,-2,-2,2)\n",
    "def electric_merge(part1,part2):\n",
    "    for i in range(101):\n",
    "        Particle.time_interval(part1,0.25)\n",
    "        Particle.time_interval(part2,0.25)\n",
    "        if np.sqrt((part1.x - part2.x)**2 + (part1.y - part2.y)**2 + (part1.z - part2.z)**2) < 0.25 and part1.i != 0 and part2.i != 0:\n",
    "            ChargedParticle.charge(part1,part2)\n",
    "        \n",
    "electric_merge(P1,P2)\n",
    "electric_merge(P3,P4)\n",
    "    "
   ]
  },
  {
   "cell_type": "code",
   "execution_count": null,
   "metadata": {},
   "outputs": [],
   "source": []
  }
 ],
 "metadata": {
  "kernelspec": {
   "display_name": "Python 3 (ipykernel)",
   "language": "python",
   "name": "python3"
  },
  "language_info": {
   "codemirror_mode": {
    "name": "ipython",
    "version": 3
   },
   "file_extension": ".py",
   "mimetype": "text/x-python",
   "name": "python",
   "nbconvert_exporter": "python",
   "pygments_lexer": "ipython3",
   "version": "3.11.4"
  }
 },
 "nbformat": 4,
 "nbformat_minor": 2
}
